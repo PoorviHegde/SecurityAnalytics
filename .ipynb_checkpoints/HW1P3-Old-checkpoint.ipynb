{
 "cells": [
  {
   "cell_type": "markdown",
   "metadata": {},
   "source": [
    "<h1>Problem3</h1>"
   ]
  },
  {
   "cell_type": "code",
   "execution_count": 4,
   "metadata": {},
   "outputs": [],
   "source": [
    "import pandas as pd\n",
    "import numpy as np\n",
    "import matplotlib.pyplot as plt\n",
    "import random\n",
    "from sklearn.preprocessing import StandardScaler\n",
    "from sklearn.model_selection import train_test_split\n",
    "from sklearn.metrics import *\n",
    "from sklearn.datasets import *\n",
    "\n",
    "random.seed(0)\n",
    "np.random.seed(0)"
   ]
  },
  {
   "cell_type": "code",
   "execution_count": 5,
   "metadata": {},
   "outputs": [],
   "source": [
    "data = pd.read_csv('data.txt',delim_whitespace = True,header = None)"
   ]
  },
  {
   "cell_type": "code",
   "execution_count": 6,
   "metadata": {},
   "outputs": [
    {
     "data": {
      "text/html": [
       "<div>\n",
       "<style scoped>\n",
       "    .dataframe tbody tr th:only-of-type {\n",
       "        vertical-align: middle;\n",
       "    }\n",
       "\n",
       "    .dataframe tbody tr th {\n",
       "        vertical-align: top;\n",
       "    }\n",
       "\n",
       "    .dataframe thead th {\n",
       "        text-align: right;\n",
       "    }\n",
       "</style>\n",
       "<table border=\"1\" class=\"dataframe\">\n",
       "  <thead>\n",
       "    <tr style=\"text-align: right;\">\n",
       "      <th></th>\n",
       "      <th>0</th>\n",
       "      <th>1</th>\n",
       "    </tr>\n",
       "  </thead>\n",
       "  <tbody>\n",
       "    <tr>\n",
       "      <th>0</th>\n",
       "      <td>-6.0</td>\n",
       "      <td>-164.160590</td>\n",
       "    </tr>\n",
       "    <tr>\n",
       "      <th>1</th>\n",
       "      <td>-5.8</td>\n",
       "      <td>90.739607</td>\n",
       "    </tr>\n",
       "    <tr>\n",
       "      <th>2</th>\n",
       "      <td>-5.6</td>\n",
       "      <td>-131.842090</td>\n",
       "    </tr>\n",
       "    <tr>\n",
       "      <th>3</th>\n",
       "      <td>-5.4</td>\n",
       "      <td>-178.428200</td>\n",
       "    </tr>\n",
       "    <tr>\n",
       "      <th>4</th>\n",
       "      <td>-5.2</td>\n",
       "      <td>-4.838565</td>\n",
       "    </tr>\n",
       "    <tr>\n",
       "      <th>...</th>\n",
       "      <td>...</td>\n",
       "      <td>...</td>\n",
       "    </tr>\n",
       "    <tr>\n",
       "      <th>76</th>\n",
       "      <td>9.2</td>\n",
       "      <td>1798.230000</td>\n",
       "    </tr>\n",
       "    <tr>\n",
       "      <th>77</th>\n",
       "      <td>9.4</td>\n",
       "      <td>2025.194400</td>\n",
       "    </tr>\n",
       "    <tr>\n",
       "      <th>78</th>\n",
       "      <td>9.6</td>\n",
       "      <td>2055.884500</td>\n",
       "    </tr>\n",
       "    <tr>\n",
       "      <th>79</th>\n",
       "      <td>9.8</td>\n",
       "      <td>2340.809100</td>\n",
       "    </tr>\n",
       "    <tr>\n",
       "      <th>80</th>\n",
       "      <td>10.0</td>\n",
       "      <td>2090.919000</td>\n",
       "    </tr>\n",
       "  </tbody>\n",
       "</table>\n",
       "<p>81 rows × 2 columns</p>\n",
       "</div>"
      ],
      "text/plain": [
       "       0            1\n",
       "0   -6.0  -164.160590\n",
       "1   -5.8    90.739607\n",
       "2   -5.6  -131.842090\n",
       "3   -5.4  -178.428200\n",
       "4   -5.2    -4.838565\n",
       "..   ...          ...\n",
       "76   9.2  1798.230000\n",
       "77   9.4  2025.194400\n",
       "78   9.6  2055.884500\n",
       "79   9.8  2340.809100\n",
       "80  10.0  2090.919000\n",
       "\n",
       "[81 rows x 2 columns]"
      ]
     },
     "execution_count": 6,
     "metadata": {},
     "output_type": "execute_result"
    }
   ],
   "source": [
    "data"
   ]
  },
  {
   "cell_type": "code",
   "execution_count": 7,
   "metadata": {},
   "outputs": [],
   "source": [
    "x,y = data[0],data[1]"
   ]
  },
  {
   "cell_type": "code",
   "execution_count": 8,
   "metadata": {},
   "outputs": [],
   "source": [
    "x_train=[]\n",
    "x_test=[]\n",
    "y_train=[]\n",
    "y_test=[]\n",
    "for i in range(0,10):\n",
    "    x_tr,x_tst,y_tr,y_tst = train_test_split(x,y,test_size=0.2)\n",
    "    x_train.append(x_tr)\n",
    "    x_test.append(x_tst)\n",
    "    y_train.append(y_tr)\n",
    "    y_test.append(y_tst)\n",
    "    \n",
    "    \n",
    "    \n",
    "#x_train1, x_test1, y_train1, y_test1 = train_test_split(x,y,test_size = 0.2)\n",
    "#x_train2, x_test2, y_train2, y_test2 = train_test_split(x,y,test_size = 0.2)\n",
    "#x_train3, x_test3, y_train3, y_test3 = train_test_split(x,y,test_size = 0.2)\n",
    "#x_train4, x_test4, y_train4, y_test4 = train_test_split(x,y,test_size = 0.2)\n",
    "#x_train5, x_test5, y_train5, y_test5 = train_test_split(x,y,test_size = 0.2)\n",
    "#x_train6, x_test6, y_train6, y_test6 = train_test_split(x,y,test_size = 0.2)\n",
    "#x_train7, x_test7, y_train7, y_test7 = train_test_splteit(x,y,test_size = 0.2)\n",
    "#x_train8, x_test8, y_train8, y_test8 = train_test_split(x,y,test_size = 0.2)\n",
    "#x_train9, x_test9, y_train9, y_test9 = train_test_split(x,y,test_size = 0.2)\n",
    "#x_train10, x_test10, y_train10, y_test10 = train_test_split(x,y,test_size = 0.2)"
   ]
  },
  {
   "cell_type": "code",
   "execution_count": 14,
   "metadata": {},
   "outputs": [
    {
     "name": "stdout",
     "output_type": "stream",
     "text": [
      "17 64 64 17\n",
      "17 64 64 17\n",
      "17 64 64 17\n",
      "17 64 64 17\n",
      "17 64 64 17\n",
      "17 64 64 17\n",
      "17 64 64 17\n",
      "17 64 64 17\n",
      "17 64 64 17\n",
      "17 64 64 17\n"
     ]
    }
   ],
   "source": [
    "for i in range(0,10):\n",
    "    print(len(x_test[i]),len(x_train[i]),len(y_train[i]),len(y_test[i]))"
   ]
  },
  {
   "cell_type": "code",
   "execution_count": 12,
   "metadata": {},
   "outputs": [
    {
     "data": {
      "text/html": [
       "<div>\n",
       "<style scoped>\n",
       "    .dataframe tbody tr th:only-of-type {\n",
       "        vertical-align: middle;\n",
       "    }\n",
       "\n",
       "    .dataframe tbody tr th {\n",
       "        vertical-align: top;\n",
       "    }\n",
       "\n",
       "    .dataframe thead th {\n",
       "        text-align: right;\n",
       "    }\n",
       "</style>\n",
       "<table border=\"1\" class=\"dataframe\">\n",
       "  <thead>\n",
       "    <tr style=\"text-align: right;\">\n",
       "      <th></th>\n",
       "      <th>0</th>\n",
       "    </tr>\n",
       "  </thead>\n",
       "  <tbody>\n",
       "    <tr>\n",
       "      <th>0</th>\n",
       "      <td></td>\n",
       "    </tr>\n",
       "    <tr>\n",
       "      <th>1</th>\n",
       "      <td></td>\n",
       "    </tr>\n",
       "    <tr>\n",
       "      <th>2</th>\n",
       "      <td></td>\n",
       "    </tr>\n",
       "    <tr>\n",
       "      <th>3</th>\n",
       "      <td></td>\n",
       "    </tr>\n",
       "    <tr>\n",
       "      <th>4</th>\n",
       "      <td></td>\n",
       "    </tr>\n",
       "    <tr>\n",
       "      <th>...</th>\n",
       "      <td>...</td>\n",
       "    </tr>\n",
       "    <tr>\n",
       "      <th>76</th>\n",
       "      <td></td>\n",
       "    </tr>\n",
       "    <tr>\n",
       "      <th>77</th>\n",
       "      <td></td>\n",
       "    </tr>\n",
       "    <tr>\n",
       "      <th>78</th>\n",
       "      <td></td>\n",
       "    </tr>\n",
       "    <tr>\n",
       "      <th>79</th>\n",
       "      <td></td>\n",
       "    </tr>\n",
       "    <tr>\n",
       "      <th>80</th>\n",
       "      <td></td>\n",
       "    </tr>\n",
       "  </tbody>\n",
       "</table>\n",
       "<p>81 rows × 1 columns</p>\n",
       "</div>"
      ],
      "text/plain": [
       "   0 \n",
       "0    \n",
       "1    \n",
       "2    \n",
       "3    \n",
       "4    \n",
       ".. ..\n",
       "76   \n",
       "77   \n",
       "78   \n",
       "79   \n",
       "80   \n",
       "\n",
       "[81 rows x 1 columns]"
      ]
     },
     "execution_count": 12,
     "metadata": {},
     "output_type": "execute_result"
    }
   ],
   "source": [
    "data"
   ]
  },
  {
   "cell_type": "code",
   "execution_count": 24,
   "metadata": {},
   "outputs": [
    {
     "data": {
      "image/png": "[encoded data removed]",
      "text/plain": [
       "<Figure size 432x288 with 1 Axes>"
      ]
     },
     "metadata": {
      "needs_background": "light"
     },
     "output_type": "display_data"
    },
    {
     "data": {
      "image/png": "[encoded data removed]",
      "text/plain": [
       "<Figure size 432x288 with 1 Axes>"
      ]
     },
     "metadata": {
      "needs_background": "light"
     },
     "output_type": "display_data"
    },
    {
     "data": {
      "image/png": "[encoded data removed]",
      "text/plain": [
       "<Figure size 432x288 with 1 Axes>"
      ]
     },
     "metadata": {
      "needs_background": "light"
     },
     "output_type": "display_data"
    },
    {
     "data": {
      "image/png": "[encoded data removed]",
      "text/plain": [
       "<Figure size 432x288 with 1 Axes>"
      ]
     },
     "metadata": {
      "needs_background": "light"
     },
     "output_type": "display_data"
    },
    {
     "data": {
      "image/png": "[encoded data removed]",
      "text/plain": [
       "<Figure size 432x288 with 1 Axes>"
      ]
     },
     "metadata": {
      "needs_background": "light"
     },
     "output_type": "display_data"
    },
    {
     "data": {
      "image/png": "[encoded data removed]",
      "text/plain": [
       "<Figure size 432x288 with 1 Axes>"
      ]
     },
     "metadata": {
      "needs_background": "light"
     },
     "output_type": "display_data"
    },
    {
     "data": {
      "image/png": "[encoded data removed]",
      "text/plain": [
       "<Figure size 432x288 with 1 Axes>"
      ]
     },
     "metadata": {
      "needs_background": "light"
     },
     "output_type": "display_data"
    },
    {
     "data": {
      "image/png": "[encoded data removed]",
      "text/plain": [
       "<Figure size 432x288 with 1 Axes>"
      ]
     },
     "metadata": {
      "needs_background": "light"
     },
     "output_type": "display_data"
    },
    {
     "data": {
      "image/png": "[encoded data removed]",
      "text/plain": [
       "<Figure size 432x288 with 1 Axes>"
      ]
     },
     "metadata": {
      "needs_background": "light"
     },
     "output_type": "display_data"
    },
    {
     "data": {
      "image/png": "[encoded data removed]",
      "text/plain": [
       "<Figure size 432x288 with 1 Axes>"
      ]
     },
     "metadata": {
      "needs_background": "light"
     },
     "output_type": "display_data"
    }
   ],
   "source": [
    "\n",
    "for i in range(0,10):\n",
    "    fig,ax = plt.subplots();\n",
    "    ax.scatter(x_train[i],y_train[i]);"
   ]
  },
  {
   "cell_type": "code",
   "execution_count": 25,
   "metadata": {},
   "outputs": [
    {
     "name": "stdout",
     "output_type": "stream",
     "text": [
      "[1.821875, 2.171875, 2.003125, 1.5968749999999998, 1.471875, 2.4281250000000005, 2.175, 2.246875, 2.43125, 1.8687500000000001]\n",
      "[506.10063661562504, 531.7846146875, 521.97671059375, 476.39260241249997, 465.06024256874997, 551.3631129124999, 542.580197771875, 557.103098771875, 569.813176553125, 519.8270516]\n"
     ]
    }
   ],
   "source": [
    "x_train_mean = []\n",
    "y_train_mean = []\n",
    "for i in range(0,10):\n",
    "    x_train_mean.append(x_train[i].mean())\n",
    "    y_train_mean.append(y_train[i].mean())\n",
    "print(x_train_mean)\n",
    "print(y_train_mean)"
   ]
  },
  {
   "cell_type": "code",
   "execution_count": 26,
   "metadata": {},
   "outputs": [
    {
     "name": "stdout",
     "output_type": "stream",
     "text": [
      "[4.828502306493135, 4.724386875479859, 4.656382162287567, 4.722857917062709, 4.761801338162585, 4.781427984549027, 4.901117462472449, 4.677367620483006, 4.671048113238664, 4.837448986647063] [614.2118569362291, 584.2583211867101, 586.7895440790115, 569.3262699875693, 575.7369254971815, 596.1523667179044, 622.4006076780136, 611.7814671952825, 619.078950623506, 607.3981540720353]\n"
     ]
    }
   ],
   "source": [
    "x_train_std = []\n",
    "y_train_std = []\n",
    "for i in range(0,10):\n",
    "    x_train_std.append(x_train[i].std())\n",
    "    y_train_std.append(y_train[i].std())\n",
    "print(x_train_std,y_train_std)"
   ]
  },
  {
   "cell_type": "code",
   "execution_count": 139,
   "metadata": {},
   "outputs": [
    {
     "data": {
      "image/png": "[encoded data removed]",
      "text/plain": [
       "<Figure size 432x288 with 1 Axes>"
      ]
     },
     "metadata": {
      "needs_background": "light"
     },
     "output_type": "display_data"
    },
    {
     "data": {
      "image/png": "[encoded data removed]",
      "text/plain": [
       "<Figure size 432x288 with 1 Axes>"
      ]
     },
     "metadata": {
      "needs_background": "light"
     },
     "output_type": "display_data"
    },
    {
     "data": {
      "image/png": "[encoded data removed]",
      "text/plain": [
       "<Figure size 432x288 with 1 Axes>"
      ]
     },
     "metadata": {
      "needs_background": "light"
     },
     "output_type": "display_data"
    },
    {
     "data": {
      "image/png": "[encoded data removed]",
      "text/plain": [
       "<Figure size 432x288 with 1 Axes>"
      ]
     },
     "metadata": {
      "needs_background": "light"
     },
     "output_type": "display_data"
    },
    {
     "data": {
      "image/png": "[encoded data removed]",
      "text/plain": [
       "<Figure size 432x288 with 1 Axes>"
      ]
     },
     "metadata": {
      "needs_background": "light"
     },
     "output_type": "display_data"
    },
    {
     "data": {
      "image/png": "[encoded data removed]",
      "text/plain": [
       "<Figure size 432x288 with 1 Axes>"
      ]
     },
     "metadata": {
      "needs_background": "light"
     },
     "output_type": "display_data"
    },
    {
     "data": {
      "image/png": "[encoded data removed]",
      "text/plain": [
       "<Figure size 432x288 with 1 Axes>"
      ]
     },
     "metadata": {
      "needs_background": "light"
     },
     "output_type": "display_data"
    },
    {
     "data": {
      "image/png": "[encoded data removed]",
      "text/plain": [
       "<Figure size 432x288 with 1 Axes>"
      ]
     },
     "metadata": {
      "needs_background": "light"
     },
     "output_type": "display_data"
    },
    {
     "data": {
      "image/png": "[encoded data removed]",
      "text/plain": [
       "<Figure size 432x288 with 1 Axes>"
      ]
     },
     "metadata": {
      "needs_background": "light"
     },
     "output_type": "display_data"
    },
    {
     "data": {
      "image/png": "[encoded data removed]",
      "text/plain": [
       "<Figure size 432x288 with 1 Axes>"
      ]
     },
     "metadata": {
      "needs_background": "light"
     },
     "output_type": "display_data"
    }
   ],
   "source": [
    "x_normal = {}\n",
    "y_normal = {}\n",
    "for i in range(0,10):\n",
    "    xi_normal = []\n",
    "    yi_normal = []\n",
    "    for x in x_train[i]:\n",
    "        xn = (x-x_train_mean[i])/x_train_std[i]\n",
    "        xi_normal.append(xn)\n",
    "    for y in y_train[i]:\n",
    "        yn = (y-y_train_mean[i])/y_train_std[i]\n",
    "        yi_normal.append(yn)\n",
    "    x_normal[i] = xi_normal    \n",
    "    y_normal[i] = yi_normal\n",
    "    \n",
    "for i in range(0,10):\n",
    "  fig,ax = plt.subplots();\n",
    "  ax.scatter(x_normal[i],y_normal[i])"
   ]
  },
  {
   "cell_type": "code",
   "execution_count": 40,
   "metadata": {},
   "outputs": [],
   "source": [
    "#def square_error(x,n,w,y):\n",
    " #   g = w[0]\n",
    "  #  for i in range(1,n+1):\n",
    "   #     g = g+x^n*w[i]\n",
    "     \n",
    "          "
   ]
  },
  {
   "cell_type": "code",
   "execution_count": 110,
   "metadata": {},
   "outputs": [
    {
     "data": {
      "text/plain": [
       "array([ 1.28788291e+00, -4.30189132e-01, -6.01996336e-01,  1.33083471e+00,\n",
       "       -1.33217695e+00, -1.41808055e+00,  4.71798689e-01,  3.42943286e-01,\n",
       "        1.11607570e+00, -1.29526525e-01, -1.11741795e+00, -4.36229229e-02,\n",
       "        1.45969011e+00,  9.44268500e-01,  1.41673831e+00, -9.02658943e-01,\n",
       "       -5.59044535e-01, -1.63283956e+00, -5.16092734e-01, -1.28922515e+00,\n",
       "       -8.59707142e-01,  8.15413097e-01,  1.24493111e+00, -7.30851739e-01,\n",
       "       -1.50398416e+00, -7.73803540e-01, -2.15430127e-01,  7.72461296e-01,\n",
       "       -1.20332155e+00,  8.52324801e-02,  4.28846888e-01,  7.29509495e-01,\n",
       "        9.87220301e-01, -1.58988776e+00,  5.14750490e-01,  1.07312390e+00,\n",
       "        1.71136082e-01,  1.20197931e+00, -1.67579136e+00,  1.67444912e+00,\n",
       "        2.99991485e-01, -8.65747239e-02, -1.24627335e+00, -1.07446615e+00,\n",
       "        6.00654092e-01, -6.71121891e-04, -9.45610744e-01,  4.22806791e-02,\n",
       "        1.54559371e+00,  1.63149732e+00, -1.16036975e+00, -3.87237331e-01,\n",
       "       -3.44285530e-01, -3.01333729e-01,  9.01316699e-01,  8.58364898e-01,\n",
       "       -6.44948137e-01, -8.16755341e-01, -4.73140933e-01, -6.87899938e-01,\n",
       "       -1.03151435e+00,  6.86557694e-01,  1.50264191e+00,  1.58854551e+00])"
      ]
     },
     "execution_count": 110,
     "metadata": {},
     "output_type": "execute_result"
    }
   ],
   "source": [
    "#data_n=data.values \n",
    "#m=len(data_n[:,-1]) #length of total number of the samples - 97\n",
    "#X=np.append(np.ones((m,1)),data_n[:,0].reshape(m,1),axis=1)# create an mx2 matrix with first column 1 and 2nd col as x values\n",
    "#y=data_n[:,1].reshape(m,1) #create an mX1 matrix with y values\n",
    "#print(X)\n",
    "\n",
    "np.array(x_normal[2]).reshape(m,1)[:,0]"
   ]
  },
  {
   "cell_type": "code",
   "execution_count": 154,
   "metadata": {
    "scrolled": false
   },
   "outputs": [
    {
     "name": "stdout",
     "output_type": "stream",
     "text": [
      "mean_error hypo1 set 0  :  0.2781582614537999\n",
      "mean_error hyp2 set 0  :  0.05672315835897583\n",
      "mean_error hyp3 set 0  :  0.05860046939412789\n",
      "mean_error hypo1 set 1  :  0.28200954566657166\n",
      "mean_error hyp2 set 1  :  0.060308078625071364\n",
      "mean_error hyp3 set 1  :  0.06421073874250842\n",
      "mean_error hypo1 set 2  :  0.30332140904672966\n",
      "mean_error hyp2 set 2  :  0.06726195774738782\n",
      "mean_error hyp3 set 2  :  0.06925023029740626\n",
      "mean_error hypo1 set 3  :  0.2957068885284385\n",
      "mean_error hyp2 set 3  :  0.06695147754473052\n",
      "mean_error hyp3 set 3  :  0.06820127999507357\n",
      "mean_error hypo1 set 4  :  0.26416922814572685\n",
      "mean_error hyp2 set 4  :  0.05993757506946117\n",
      "mean_error hyp3 set 4  :  0.05848767140157333\n",
      "mean_error hypo1 set 5  :  0.3050980988988568\n",
      "mean_error hyp2 set 5  :  0.057232689438108095\n",
      "mean_error hyp3 set 5  :  0.061008382791720585\n",
      "mean_error hypo1 set 6  :  0.2907096182078225\n",
      "mean_error hyp2 set 6  :  0.05619909637652051\n",
      "mean_error hyp3 set 6  :  0.057887125168434736\n",
      "mean_error hypo1 set 7  :  0.26931328204896754\n",
      "mean_error hyp2 set 7  :  0.051999963590259476\n",
      "mean_error hyp3 set 7  :  0.05393717043737087\n",
      "mean_error hypo1 set 8  :  0.291093292285972\n",
      "mean_error hyp2 set 8  :  0.05445519451627262\n",
      "mean_error hyp3 set 8  :  0.05782398012189296\n",
      "mean_error hypo1 set 9  :  0.2699227682858254\n",
      "mean_error hyp2 set 9  :  0.05668262908672136\n",
      "mean_error hyp3 set 9  :  0.05901524711399317\n",
      "[array([[-5.60055474e-17],\n",
      "       [ 8.47010043e-01]]), array([[-5.57193180e-17],\n",
      "       [ 8.44697342e-01]]), array([[-4.09047796e-17],\n",
      "       [ 8.31783306e-01]]), array([[5.54070678e-17],\n",
      "       [8.36420258e-01]]), array([[5.53745418e-17],\n",
      "       [8.55357869e-01]]), array([[2.77746576e-16],\n",
      "       [8.30697645e-01]]), array([[5.51555329e-17],\n",
      "       [8.39449484e-01]]), array([[5.01074876e-17],\n",
      "       [8.52297707e-01]]), array([[-1.58607936e-17],\n",
      "       [ 8.39217298e-01]]), array([[5.54764568e-17],\n",
      "       [8.51934400e-01]])]\n",
      "[array([[-0.44243614],\n",
      "       [ 0.22980943],\n",
      "       [ 0.42869287],\n",
      "       [ 0.33974227]]), array([[-0.45589388],\n",
      "       [ 0.2691871 ],\n",
      "       [ 0.48312953],\n",
      "       [ 0.34000155]]), array([[-0.48206237],\n",
      "       [ 0.19502074],\n",
      "       [ 0.46660651],\n",
      "       [ 0.34826458]]), array([[-0.38379624],\n",
      "       [ 0.16703355],\n",
      "       [ 0.3687652 ],\n",
      "       [ 0.35962109]]), array([[-0.38189309],\n",
      "       [ 0.19000088],\n",
      "       [ 0.33307726],\n",
      "       [ 0.32980746]]), array([[-0.48737782],\n",
      "       [ 0.28190476],\n",
      "       [ 0.56138487],\n",
      "       [ 0.35981948]]), array([[-0.47791542],\n",
      "       [ 0.25568429],\n",
      "       [ 0.51165524],\n",
      "       [ 0.3647235 ]]), array([[-0.47623071],\n",
      "       [ 0.30263498],\n",
      "       [ 0.48249115],\n",
      "       [ 0.30695583]]), array([[-0.49156087],\n",
      "       [ 0.24692222],\n",
      "       [ 0.51955478],\n",
      "       [ 0.33571925]]), array([[-0.46212735],\n",
      "       [ 0.23135989],\n",
      "       [ 0.44365901],\n",
      "       [ 0.33606585]])]\n",
      "[array([[-0.3579012 ],\n",
      "       [ 0.29588477],\n",
      "       [ 0.17294363],\n",
      "       [ 0.28755908],\n",
      "       [ 0.1005671 ],\n",
      "       [ 0.00494233]]), array([[-0.36600724],\n",
      "       [ 0.29758003],\n",
      "       [ 0.22989289],\n",
      "       [ 0.30545217],\n",
      "       [ 0.09386061],\n",
      "       [ 0.01153158]]), array([[-0.37395742],\n",
      "       [ 0.27596688],\n",
      "       [ 0.16294431],\n",
      "       [ 0.2228108 ],\n",
      "       [ 0.11382688],\n",
      "       [ 0.03758241]]), array([[-0.3146649 ],\n",
      "       [ 0.24606477],\n",
      "       [ 0.15351821],\n",
      "       [ 0.30517354],\n",
      "       [ 0.08316165],\n",
      "       [ 0.00241145]]), array([[-0.3095786 ],\n",
      "       [ 0.2772988 ],\n",
      "       [ 0.08172606],\n",
      "       [ 0.22749186],\n",
      "       [ 0.09917049],\n",
      "       [ 0.0187642 ]]), array([[-0.3862679 ],\n",
      "       [ 0.33976626],\n",
      "       [ 0.23452568],\n",
      "       [ 0.24541555],\n",
      "       [ 0.13188418],\n",
      "       [ 0.04630477]]), array([[-0.36852064],\n",
      "       [ 0.31041851],\n",
      "       [ 0.16051742],\n",
      "       [ 0.27790134],\n",
      "       [ 0.14318521],\n",
      "       [ 0.0299718 ]]), array([[-0.36800074],\n",
      "       [ 0.34659858],\n",
      "       [ 0.16850171],\n",
      "       [ 0.26292433],\n",
      "       [ 0.11695487],\n",
      "       [ 0.01181167]]), array([[-0.40544851],\n",
      "       [ 0.31794555],\n",
      "       [ 0.25652272],\n",
      "       [ 0.19072126],\n",
      "       [ 0.1023792 ],\n",
      "       [ 0.05305576]]), array([[-0.37432232],\n",
      "       [ 0.30031066],\n",
      "       [ 0.18064144],\n",
      "       [ 0.25139079],\n",
      "       [ 0.10207134],\n",
      "       [ 0.02120539]])]\n",
      "[]\n"
     ]
    }
   ],
   "source": [
    "def create_X_matrix(data,max_pwr):\n",
    "    m = len(data)\n",
    "    X = np.ones((m,1))\n",
    "    if(max_pwr>=1):\n",
    "        for i in range(1,max_pwr+1):\n",
    "            x_pow = data**i\n",
    "            X= np.append(X,x_pow.reshape(m,1),axis=1)\n",
    "    return X\n",
    "\n",
    "\n",
    "\n",
    "def gradientDescent(X,y,theta,alpha,num_iters):\n",
    "    \"\"\" \n",
    "    Take in numpy array X, y and theta and update theta by taking   num_iters gradient steps\n",
    "    with learning rate of alpha\n",
    "    \n",
    "    return theta and the list of the cost of theta during each  iteration\n",
    "    \"\"\"\n",
    "    max_pwr = len(theta)\n",
    "    \n",
    "    #to overcome type error.\n",
    "    #X = np.array(X, dtype=np.float64)\n",
    "    y = np.array(y, dtype=np.float64) \n",
    "    theta = np.array(theta, dtype=np.float64)\n",
    "    alpha = np.array(alpha, dtype=np.float64)\n",
    "    \n",
    "    m=len(y)\n",
    "    \n",
    "    #x_pol =\n",
    "    #if(max_pwr>=2):\n",
    "    #    for i in range(2,max_pwr):\n",
    "    #        x_pow = data[:,0]**w.reshape(m,1),axis=1)\n",
    "    #X = create_x_matrix(data,max_pwr)\n",
    "    X = np.array(X, dtype=np.float64)\n",
    "    \n",
    "    for i in range(num_iters):\n",
    "        predictions = X.dot(theta)\n",
    "        error = np.dot(X.transpose(),(predictions-y))#[[y1+y2+y3+...][x1y1+x2y2+x3y3+...]]\n",
    "        descent=alpha * 1/m * error\n",
    "        theta-=descent\n",
    "    \n",
    "    return theta\n",
    "\n",
    "#weight matrix for each Hypotheses\n",
    "W1 = []\n",
    "W2 = []\n",
    "W3 = []\n",
    "W4 = []\n",
    "\n",
    "#For all sample, 4 Hypotheses\n",
    "for i in range(0,10):\n",
    "    m=len(x_normal[i]) \n",
    "    data_x=np.array(x_normal[i]).reshape(m,1)\n",
    "    #y=data_n[:,1].reshape(m,1) \n",
    "    y = np.array(y_normal[i]).reshape(m,1)\n",
    "\n",
    "#Hypothesis1\n",
    "    theta1=np.zeros((2,1)) #create a 2x1 matrix with 0s\n",
    "    X = create_X_matrix(data_x,1)\n",
    "    theta1 = gradientDescent(X,y,theta1,0.01,1500)\n",
    "    y_pred = np.dot(X,theta1)\n",
    "    mean_error = mean_squared_error(y, y_pred)\n",
    "    print(\"mean_error hypo1 set\",i,\" : \",mean_error)\n",
    "    W1.append(theta1)\n",
    "    \n",
    "#Hypothesis2\n",
    "    theta2 = np.zeros((4,1))\n",
    "    X = create_X_matrix(data_x,3)\n",
    "    theta2 = gradientDescent(X,y,theta2,0.01,1500)    \n",
    "    y_pred = np.dot(X,theta2)\n",
    "    mean_error = mean_squared_error(y, y_pred)\n",
    "    print(\"mean_error hyp2 set\",i,\" : \",mean_error)\n",
    "    W2.append(theta2)\n",
    "    \n",
    "#Hypothesis3\n",
    "    theta3 = np.zeros((6,1))\n",
    "    X = create_X_matrix(data_x,5)\n",
    "    theta3 = gradientDescent(X,y,theta3,0.01,1500)\n",
    "    y_pred = np.dot(X,theta3)\n",
    "    mean_error = mean_squared_error(y, y_pred)\n",
    "    print(\"mean_error hyp3 set\",i,\" : \",mean_error)\n",
    "    W3.append(theta3)\n",
    "#Hypothesis4\n",
    "    #theta4 = np.zeros((51,1))\n",
    "    #X = create_X_matrix(data_x,50)\n",
    "    #theta4 = gradientDescent(X,y,theta4,0.01,1500)\n",
    "    #y_pred = np.dot(X,theta4)\n",
    "    #mean_error = mean_squared_error(y, y_pred)\n",
    "    #print(mean_error)\n",
    "    #W4.append(theta4)\n",
    "\n",
    "print(W1)\n",
    "print(W2)\n",
    "print(W3)\n",
    "print(W4)"
   ]
  },
  {
   "cell_type": "code",
   "execution_count": null,
   "metadata": {},
   "outputs": [],
   "source": [
    "\n",
    "    "
   ]
  }
 ],
 "metadata": {
  "kernelspec": {
   "display_name": "Python 3",
   "language": "python",
   "name": "python3"
  },
  "language_info": {
   "codemirror_mode": {
    "name": "ipython",
    "version": 3
   },
   "file_extension": ".py",
   "mimetype": "text/x-python",
   "name": "python",
   "nbconvert_exporter": "python",
   "pygments_lexer": "ipython3",
   "version": "3.6.13"
  }
 },
 "nbformat": 4,
 "nbformat_minor": 4
}
