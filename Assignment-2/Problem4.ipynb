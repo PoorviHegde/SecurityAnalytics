{
 "cells": [
  {
   "cell_type": "code",
   "execution_count": 2,
   "id": "7d74ea33",
   "metadata": {},
   "outputs": [],
   "source": [
    "import pandas as pd\n",
    "import numpy as np\n",
    "import matplotlib.pyplot as plt\n",
    "import random\n",
    "from sklearn.model_selection import train_test_split\n",
    "from sklearn.model_selection import cross_val_score\n",
    "from sklearn.metrics import *\n",
    "from sklearn.neighbors import KNeighborsClassifier\n",
    "from scipy.spatial.distance import cdist\n",
    "\n",
    "random.seed(0)\n",
    "np.random.seed(0)"
   ]
  },
  {
   "cell_type": "code",
   "execution_count": 3,
   "id": "6f5fa96f",
   "metadata": {},
   "outputs": [
    {
     "data": {
      "text/html": [
       "<div>\n",
       "<style scoped>\n",
       "    .dataframe tbody tr th:only-of-type {\n",
       "        vertical-align: middle;\n",
       "    }\n",
       "\n",
       "    .dataframe tbody tr th {\n",
       "        vertical-align: top;\n",
       "    }\n",
       "\n",
       "    .dataframe thead th {\n",
       "        text-align: right;\n",
       "    }\n",
       "</style>\n",
       "<table border=\"1\" class=\"dataframe\">\n",
       "  <thead>\n",
       "    <tr style=\"text-align: right;\">\n",
       "      <th></th>\n",
       "      <th>Sepal Length</th>\n",
       "      <th>Sepal Width</th>\n",
       "      <th>Petal Length</th>\n",
       "      <th>Petal Width</th>\n",
       "      <th>Class</th>\n",
       "    </tr>\n",
       "  </thead>\n",
       "  <tbody>\n",
       "    <tr>\n",
       "      <th>0</th>\n",
       "      <td>5.1</td>\n",
       "      <td>3.5</td>\n",
       "      <td>1.4</td>\n",
       "      <td>0.2</td>\n",
       "      <td>Iris-setosa</td>\n",
       "    </tr>\n",
       "    <tr>\n",
       "      <th>1</th>\n",
       "      <td>4.9</td>\n",
       "      <td>3.0</td>\n",
       "      <td>1.4</td>\n",
       "      <td>0.2</td>\n",
       "      <td>Iris-setosa</td>\n",
       "    </tr>\n",
       "    <tr>\n",
       "      <th>2</th>\n",
       "      <td>4.7</td>\n",
       "      <td>3.2</td>\n",
       "      <td>1.3</td>\n",
       "      <td>0.2</td>\n",
       "      <td>Iris-setosa</td>\n",
       "    </tr>\n",
       "    <tr>\n",
       "      <th>3</th>\n",
       "      <td>4.6</td>\n",
       "      <td>3.1</td>\n",
       "      <td>1.5</td>\n",
       "      <td>0.2</td>\n",
       "      <td>Iris-setosa</td>\n",
       "    </tr>\n",
       "    <tr>\n",
       "      <th>4</th>\n",
       "      <td>5.0</td>\n",
       "      <td>3.6</td>\n",
       "      <td>1.4</td>\n",
       "      <td>0.2</td>\n",
       "      <td>Iris-setosa</td>\n",
       "    </tr>\n",
       "    <tr>\n",
       "      <th>...</th>\n",
       "      <td>...</td>\n",
       "      <td>...</td>\n",
       "      <td>...</td>\n",
       "      <td>...</td>\n",
       "      <td>...</td>\n",
       "    </tr>\n",
       "    <tr>\n",
       "      <th>145</th>\n",
       "      <td>6.7</td>\n",
       "      <td>3.0</td>\n",
       "      <td>5.2</td>\n",
       "      <td>2.3</td>\n",
       "      <td>Iris-virginica</td>\n",
       "    </tr>\n",
       "    <tr>\n",
       "      <th>146</th>\n",
       "      <td>6.3</td>\n",
       "      <td>2.5</td>\n",
       "      <td>5.0</td>\n",
       "      <td>1.9</td>\n",
       "      <td>Iris-virginica</td>\n",
       "    </tr>\n",
       "    <tr>\n",
       "      <th>147</th>\n",
       "      <td>6.5</td>\n",
       "      <td>3.0</td>\n",
       "      <td>5.2</td>\n",
       "      <td>2.0</td>\n",
       "      <td>Iris-virginica</td>\n",
       "    </tr>\n",
       "    <tr>\n",
       "      <th>148</th>\n",
       "      <td>6.2</td>\n",
       "      <td>3.4</td>\n",
       "      <td>5.4</td>\n",
       "      <td>2.3</td>\n",
       "      <td>Iris-virginica</td>\n",
       "    </tr>\n",
       "    <tr>\n",
       "      <th>149</th>\n",
       "      <td>5.9</td>\n",
       "      <td>3.0</td>\n",
       "      <td>5.1</td>\n",
       "      <td>1.8</td>\n",
       "      <td>Iris-virginica</td>\n",
       "    </tr>\n",
       "  </tbody>\n",
       "</table>\n",
       "<p>150 rows × 5 columns</p>\n",
       "</div>"
      ],
      "text/plain": [
       "     Sepal Length  Sepal Width  Petal Length  Petal Width           Class\n",
       "0             5.1          3.5           1.4          0.2     Iris-setosa\n",
       "1             4.9          3.0           1.4          0.2     Iris-setosa\n",
       "2             4.7          3.2           1.3          0.2     Iris-setosa\n",
       "3             4.6          3.1           1.5          0.2     Iris-setosa\n",
       "4             5.0          3.6           1.4          0.2     Iris-setosa\n",
       "..            ...          ...           ...          ...             ...\n",
       "145           6.7          3.0           5.2          2.3  Iris-virginica\n",
       "146           6.3          2.5           5.0          1.9  Iris-virginica\n",
       "147           6.5          3.0           5.2          2.0  Iris-virginica\n",
       "148           6.2          3.4           5.4          2.3  Iris-virginica\n",
       "149           5.9          3.0           5.1          1.8  Iris-virginica\n",
       "\n",
       "[150 rows x 5 columns]"
      ]
     },
     "execution_count": 3,
     "metadata": {},
     "output_type": "execute_result"
    }
   ],
   "source": [
    "data = pd.read_csv('Iris.data',sep=',',names=['Sepal Length','Sepal Width','Petal Length','Petal Width','Class'])\n",
    "data"
   ]
  },
  {
   "cell_type": "code",
   "execution_count": 4,
   "id": "196ad4c4",
   "metadata": {},
   "outputs": [
    {
     "data": {
      "text/html": [
       "<div>\n",
       "<style scoped>\n",
       "    .dataframe tbody tr th:only-of-type {\n",
       "        vertical-align: middle;\n",
       "    }\n",
       "\n",
       "    .dataframe tbody tr th {\n",
       "        vertical-align: top;\n",
       "    }\n",
       "\n",
       "    .dataframe thead th {\n",
       "        text-align: right;\n",
       "    }\n",
       "</style>\n",
       "<table border=\"1\" class=\"dataframe\">\n",
       "  <thead>\n",
       "    <tr style=\"text-align: right;\">\n",
       "      <th></th>\n",
       "      <th>Sepal Length</th>\n",
       "      <th>Sepal Width</th>\n",
       "      <th>Petal Length</th>\n",
       "      <th>Petal Width</th>\n",
       "    </tr>\n",
       "  </thead>\n",
       "  <tbody>\n",
       "    <tr>\n",
       "      <th>0</th>\n",
       "      <td>5.1</td>\n",
       "      <td>3.5</td>\n",
       "      <td>1.4</td>\n",
       "      <td>0.2</td>\n",
       "    </tr>\n",
       "    <tr>\n",
       "      <th>1</th>\n",
       "      <td>4.9</td>\n",
       "      <td>3.0</td>\n",
       "      <td>1.4</td>\n",
       "      <td>0.2</td>\n",
       "    </tr>\n",
       "    <tr>\n",
       "      <th>2</th>\n",
       "      <td>4.7</td>\n",
       "      <td>3.2</td>\n",
       "      <td>1.3</td>\n",
       "      <td>0.2</td>\n",
       "    </tr>\n",
       "    <tr>\n",
       "      <th>3</th>\n",
       "      <td>4.6</td>\n",
       "      <td>3.1</td>\n",
       "      <td>1.5</td>\n",
       "      <td>0.2</td>\n",
       "    </tr>\n",
       "    <tr>\n",
       "      <th>4</th>\n",
       "      <td>5.0</td>\n",
       "      <td>3.6</td>\n",
       "      <td>1.4</td>\n",
       "      <td>0.2</td>\n",
       "    </tr>\n",
       "    <tr>\n",
       "      <th>...</th>\n",
       "      <td>...</td>\n",
       "      <td>...</td>\n",
       "      <td>...</td>\n",
       "      <td>...</td>\n",
       "    </tr>\n",
       "    <tr>\n",
       "      <th>145</th>\n",
       "      <td>6.7</td>\n",
       "      <td>3.0</td>\n",
       "      <td>5.2</td>\n",
       "      <td>2.3</td>\n",
       "    </tr>\n",
       "    <tr>\n",
       "      <th>146</th>\n",
       "      <td>6.3</td>\n",
       "      <td>2.5</td>\n",
       "      <td>5.0</td>\n",
       "      <td>1.9</td>\n",
       "    </tr>\n",
       "    <tr>\n",
       "      <th>147</th>\n",
       "      <td>6.5</td>\n",
       "      <td>3.0</td>\n",
       "      <td>5.2</td>\n",
       "      <td>2.0</td>\n",
       "    </tr>\n",
       "    <tr>\n",
       "      <th>148</th>\n",
       "      <td>6.2</td>\n",
       "      <td>3.4</td>\n",
       "      <td>5.4</td>\n",
       "      <td>2.3</td>\n",
       "    </tr>\n",
       "    <tr>\n",
       "      <th>149</th>\n",
       "      <td>5.9</td>\n",
       "      <td>3.0</td>\n",
       "      <td>5.1</td>\n",
       "      <td>1.8</td>\n",
       "    </tr>\n",
       "  </tbody>\n",
       "</table>\n",
       "<p>150 rows × 4 columns</p>\n",
       "</div>"
      ],
      "text/plain": [
       "     Sepal Length  Sepal Width  Petal Length  Petal Width\n",
       "0             5.1          3.5           1.4          0.2\n",
       "1             4.9          3.0           1.4          0.2\n",
       "2             4.7          3.2           1.3          0.2\n",
       "3             4.6          3.1           1.5          0.2\n",
       "4             5.0          3.6           1.4          0.2\n",
       "..            ...          ...           ...          ...\n",
       "145           6.7          3.0           5.2          2.3\n",
       "146           6.3          2.5           5.0          1.9\n",
       "147           6.5          3.0           5.2          2.0\n",
       "148           6.2          3.4           5.4          2.3\n",
       "149           5.9          3.0           5.1          1.8\n",
       "\n",
       "[150 rows x 4 columns]"
      ]
     },
     "execution_count": 4,
     "metadata": {},
     "output_type": "execute_result"
    }
   ],
   "source": [
    "X_old = data[['Sepal Length','Sepal Width','Petal Length','Petal Width']]\n",
    "X_old"
   ]
  },
  {
   "cell_type": "code",
   "execution_count": 5,
   "id": "36ec9fdd",
   "metadata": {},
   "outputs": [
    {
     "data": {
      "text/html": [
       "<div>\n",
       "<style scoped>\n",
       "    .dataframe tbody tr th:only-of-type {\n",
       "        vertical-align: middle;\n",
       "    }\n",
       "\n",
       "    .dataframe tbody tr th {\n",
       "        vertical-align: top;\n",
       "    }\n",
       "\n",
       "    .dataframe thead th {\n",
       "        text-align: right;\n",
       "    }\n",
       "</style>\n",
       "<table border=\"1\" class=\"dataframe\">\n",
       "  <thead>\n",
       "    <tr style=\"text-align: right;\">\n",
       "      <th></th>\n",
       "      <th>X1</th>\n",
       "      <th>X2</th>\n",
       "    </tr>\n",
       "  </thead>\n",
       "  <tbody>\n",
       "    <tr>\n",
       "      <th>0</th>\n",
       "      <td>1.457143</td>\n",
       "      <td>7.000000</td>\n",
       "    </tr>\n",
       "    <tr>\n",
       "      <th>1</th>\n",
       "      <td>1.633333</td>\n",
       "      <td>7.000000</td>\n",
       "    </tr>\n",
       "    <tr>\n",
       "      <th>2</th>\n",
       "      <td>1.468750</td>\n",
       "      <td>6.500000</td>\n",
       "    </tr>\n",
       "    <tr>\n",
       "      <th>3</th>\n",
       "      <td>1.483871</td>\n",
       "      <td>7.500000</td>\n",
       "    </tr>\n",
       "    <tr>\n",
       "      <th>4</th>\n",
       "      <td>1.388889</td>\n",
       "      <td>7.000000</td>\n",
       "    </tr>\n",
       "    <tr>\n",
       "      <th>...</th>\n",
       "      <td>...</td>\n",
       "      <td>...</td>\n",
       "    </tr>\n",
       "    <tr>\n",
       "      <th>145</th>\n",
       "      <td>2.233333</td>\n",
       "      <td>2.260870</td>\n",
       "    </tr>\n",
       "    <tr>\n",
       "      <th>146</th>\n",
       "      <td>2.520000</td>\n",
       "      <td>2.631579</td>\n",
       "    </tr>\n",
       "    <tr>\n",
       "      <th>147</th>\n",
       "      <td>2.166667</td>\n",
       "      <td>2.600000</td>\n",
       "    </tr>\n",
       "    <tr>\n",
       "      <th>148</th>\n",
       "      <td>1.823529</td>\n",
       "      <td>2.347826</td>\n",
       "    </tr>\n",
       "    <tr>\n",
       "      <th>149</th>\n",
       "      <td>1.966667</td>\n",
       "      <td>2.833333</td>\n",
       "    </tr>\n",
       "  </tbody>\n",
       "</table>\n",
       "<p>150 rows × 2 columns</p>\n",
       "</div>"
      ],
      "text/plain": [
       "           X1        X2\n",
       "0    1.457143  7.000000\n",
       "1    1.633333  7.000000\n",
       "2    1.468750  6.500000\n",
       "3    1.483871  7.500000\n",
       "4    1.388889  7.000000\n",
       "..        ...       ...\n",
       "145  2.233333  2.260870\n",
       "146  2.520000  2.631579\n",
       "147  2.166667  2.600000\n",
       "148  1.823529  2.347826\n",
       "149  1.966667  2.833333\n",
       "\n",
       "[150 rows x 2 columns]"
      ]
     },
     "execution_count": 5,
     "metadata": {},
     "output_type": "execute_result"
    }
   ],
   "source": [
    "X1 = data['Sepal Length']/data['Sepal Width']\n",
    "X2 = data['Petal Length']/data['Petal Width']\n",
    "dict = {'X1':X1,'X2':X2}\n",
    "X = pd.DataFrame(dict)\n",
    "X"
   ]
  },
  {
   "cell_type": "code",
   "execution_count": 6,
   "id": "7dd13914",
   "metadata": {},
   "outputs": [
    {
     "data": {
      "text/plain": [
       "Text(0, 0.5, 'X2')"
      ]
     },
     "execution_count": 6,
     "metadata": {},
     "output_type": "execute_result"
    },
    {
     "data": {
      "image/png": "[encoded data removed]",
      "text/plain": [
       "<Figure size 432x288 with 1 Axes>"
      ]
     },
     "metadata": {
      "needs_background": "light"
     },
     "output_type": "display_data"
    }
   ],
   "source": [
    "fig,ax = plt.subplots();\n",
    "ax.scatter(X1,X2)\n",
    "ax.set_title('Feature X1 vs Feature X2')\n",
    "ax.set_xlabel('X1')\n",
    "ax.set_ylabel('X2')"
   ]
  },
  {
   "cell_type": "code",
   "execution_count": 7,
   "id": "8dac78b4",
   "metadata": {},
   "outputs": [
    {
     "data": {
      "text/html": [
       "<div>\n",
       "<style scoped>\n",
       "    .dataframe tbody tr th:only-of-type {\n",
       "        vertical-align: middle;\n",
       "    }\n",
       "\n",
       "    .dataframe tbody tr th {\n",
       "        vertical-align: top;\n",
       "    }\n",
       "\n",
       "    .dataframe thead th {\n",
       "        text-align: right;\n",
       "    }\n",
       "</style>\n",
       "<table border=\"1\" class=\"dataframe\">\n",
       "  <thead>\n",
       "    <tr style=\"text-align: right;\">\n",
       "      <th></th>\n",
       "      <th>X1</th>\n",
       "      <th>X2</th>\n",
       "    </tr>\n",
       "  </thead>\n",
       "  <tbody>\n",
       "    <tr>\n",
       "      <th>count</th>\n",
       "      <td>3.000000</td>\n",
       "      <td>3.000000</td>\n",
       "    </tr>\n",
       "    <tr>\n",
       "      <th>mean</th>\n",
       "      <td>2.036075</td>\n",
       "      <td>4.375000</td>\n",
       "    </tr>\n",
       "    <tr>\n",
       "      <th>std</th>\n",
       "      <td>0.709535</td>\n",
       "      <td>2.459039</td>\n",
       "    </tr>\n",
       "    <tr>\n",
       "      <th>min</th>\n",
       "      <td>1.309524</td>\n",
       "      <td>2.125000</td>\n",
       "    </tr>\n",
       "    <tr>\n",
       "      <th>25%</th>\n",
       "      <td>1.690476</td>\n",
       "      <td>3.062500</td>\n",
       "    </tr>\n",
       "    <tr>\n",
       "      <th>50%</th>\n",
       "      <td>2.071429</td>\n",
       "      <td>4.000000</td>\n",
       "    </tr>\n",
       "    <tr>\n",
       "      <th>75%</th>\n",
       "      <td>2.399351</td>\n",
       "      <td>5.500000</td>\n",
       "    </tr>\n",
       "    <tr>\n",
       "      <th>max</th>\n",
       "      <td>2.727273</td>\n",
       "      <td>7.000000</td>\n",
       "    </tr>\n",
       "  </tbody>\n",
       "</table>\n",
       "</div>"
      ],
      "text/plain": [
       "             X1        X2\n",
       "count  3.000000  3.000000\n",
       "mean   2.036075  4.375000\n",
       "std    0.709535  2.459039\n",
       "min    1.309524  2.125000\n",
       "25%    1.690476  3.062500\n",
       "50%    2.071429  4.000000\n",
       "75%    2.399351  5.500000\n",
       "max    2.727273  7.000000"
      ]
     },
     "execution_count": 7,
     "metadata": {},
     "output_type": "execute_result"
    }
   ],
   "source": [
    "l =X.sample(n=3)\n",
    "l.describe()"
   ]
  },
  {
   "cell_type": "code",
   "execution_count": 8,
   "id": "20e3a9f9",
   "metadata": {},
   "outputs": [
    {
     "data": {
      "text/html": [
       "<div>\n",
       "<style scoped>\n",
       "    .dataframe tbody tr th:only-of-type {\n",
       "        vertical-align: middle;\n",
       "    }\n",
       "\n",
       "    .dataframe tbody tr th {\n",
       "        vertical-align: top;\n",
       "    }\n",
       "\n",
       "    .dataframe thead th {\n",
       "        text-align: right;\n",
       "    }\n",
       "</style>\n",
       "<table border=\"1\" class=\"dataframe\">\n",
       "  <thead>\n",
       "    <tr style=\"text-align: right;\">\n",
       "      <th></th>\n",
       "      <th>X1</th>\n",
       "      <th>X2</th>\n",
       "    </tr>\n",
       "  </thead>\n",
       "  <tbody>\n",
       "    <tr>\n",
       "      <th>0</th>\n",
       "      <td>-1.249072</td>\n",
       "      <td>0.992957</td>\n",
       "    </tr>\n",
       "    <tr>\n",
       "      <th>1</th>\n",
       "      <td>-0.807156</td>\n",
       "      <td>0.992957</td>\n",
       "    </tr>\n",
       "    <tr>\n",
       "      <th>2</th>\n",
       "      <td>-1.219959</td>\n",
       "      <td>0.804385</td>\n",
       "    </tr>\n",
       "    <tr>\n",
       "      <th>3</th>\n",
       "      <td>-1.182033</td>\n",
       "      <td>1.181529</td>\n",
       "    </tr>\n",
       "    <tr>\n",
       "      <th>4</th>\n",
       "      <td>-1.420264</td>\n",
       "      <td>0.992957</td>\n",
       "    </tr>\n",
       "    <tr>\n",
       "      <th>...</th>\n",
       "      <td>...</td>\n",
       "      <td>...</td>\n",
       "    </tr>\n",
       "    <tr>\n",
       "      <th>145</th>\n",
       "      <td>0.697745</td>\n",
       "      <td>-0.794377</td>\n",
       "    </tr>\n",
       "    <tr>\n",
       "      <th>146</th>\n",
       "      <td>1.416753</td>\n",
       "      <td>-0.654566</td>\n",
       "    </tr>\n",
       "    <tr>\n",
       "      <th>147</th>\n",
       "      <td>0.530533</td>\n",
       "      <td>-0.666476</td>\n",
       "    </tr>\n",
       "    <tr>\n",
       "      <th>148</th>\n",
       "      <td>-0.330113</td>\n",
       "      <td>-0.761582</td>\n",
       "    </tr>\n",
       "    <tr>\n",
       "      <th>149</th>\n",
       "      <td>0.028900</td>\n",
       "      <td>-0.578476</td>\n",
       "    </tr>\n",
       "  </tbody>\n",
       "</table>\n",
       "<p>150 rows × 2 columns</p>\n",
       "</div>"
      ],
      "text/plain": [
       "           X1        X2\n",
       "0   -1.249072  0.992957\n",
       "1   -0.807156  0.992957\n",
       "2   -1.219959  0.804385\n",
       "3   -1.182033  1.181529\n",
       "4   -1.420264  0.992957\n",
       "..        ...       ...\n",
       "145  0.697745 -0.794377\n",
       "146  1.416753 -0.654566\n",
       "147  0.530533 -0.666476\n",
       "148 -0.330113 -0.761582\n",
       "149  0.028900 -0.578476\n",
       "\n",
       "[150 rows x 2 columns]"
      ]
     },
     "execution_count": 8,
     "metadata": {},
     "output_type": "execute_result"
    }
   ],
   "source": [
    "X_normal = (X-X.mean())/X.std()\n",
    "X_normal"
   ]
  },
  {
   "cell_type": "code",
   "execution_count": 9,
   "id": "8304d4c4",
   "metadata": {},
   "outputs": [
    {
     "data": {
      "text/html": [
       "<div>\n",
       "<style scoped>\n",
       "    .dataframe tbody tr th:only-of-type {\n",
       "        vertical-align: middle;\n",
       "    }\n",
       "\n",
       "    .dataframe tbody tr th {\n",
       "        vertical-align: top;\n",
       "    }\n",
       "\n",
       "    .dataframe thead th {\n",
       "        text-align: right;\n",
       "    }\n",
       "</style>\n",
       "<table border=\"1\" class=\"dataframe\">\n",
       "  <thead>\n",
       "    <tr style=\"text-align: right;\">\n",
       "      <th></th>\n",
       "      <th>X1</th>\n",
       "      <th>X2</th>\n",
       "    </tr>\n",
       "  </thead>\n",
       "  <tbody>\n",
       "    <tr>\n",
       "      <th>0</th>\n",
       "      <td>0</td>\n",
       "      <td>1</td>\n",
       "    </tr>\n",
       "  </tbody>\n",
       "</table>\n",
       "</div>"
      ],
      "text/plain": [
       "   X1  X2\n",
       "0   0   1"
      ]
     },
     "execution_count": 9,
     "metadata": {},
     "output_type": "execute_result"
    }
   ],
   "source": [
    "k,j = X['X1'][0],X['X2'][0]\n",
    "a = [[0,1],[1,2]]\n",
    "df1 = pd.DataFrame(a,columns=['X1','X2'])\n",
    "df1.iloc[[0]]"
   ]
  },
  {
   "cell_type": "code",
   "execution_count": 11,
   "id": "83478e8a",
   "metadata": {},
   "outputs": [],
   "source": [
    "#Kmeans++\n",
    "\n",
    "def create_init_cluster():\n",
    "    l = X_normal.sample(1) #randomly select 1 cluster center\n",
    "    clusters=[] #initialise a listto store all clusters\n",
    "    clusters.append(l) # add 1st cluster center to the list\n",
    "    return clusters\n",
    "\n",
    "def find_second_point(clusters):\n",
    "    d=[] #to hold distances from 1st cluster center\n",
    "    for i in range(0,len(X_normal)): #For every point in the dataset\n",
    "        d.append(cdist(clusters[0].iloc[[0]],X_normal.iloc[[i]],'euclidean')[0][0]) #distance from point to first cluster center\n",
    "    new_centeroid_idx = np.argmax(d) #get the point that's farthest away as 2nd cluster center\n",
    "    clusters.append(X_normal.iloc[[new_centeroid_idx]]) #add second cluster center to the list\n",
    "    return clusters\n",
    "    \n",
    "def get_new_centeroid_idx(curr_clusters):\n",
    "    cluster_to_points = {} #to hold assignment of points to clusters\n",
    "    cluster_to_points_dist = []#to hold the distances of points from their cluster center\n",
    "    for i in range(0,len(curr_clusters)): #for the number of clusters currently present\n",
    "        cluster_to_points[i] = [] #initialize the dictionary to hold lists\n",
    "    \n",
    "    for i in range(0,len(X_normal)): #loop through all samples\n",
    "        c_p_dist = [] #to hold distances of each point from all the current cluster centers\n",
    "        for j in range(0,len(curr_clusters)):\n",
    "            c_p_dist.append(cdist(X_normal.iloc[[i]],curr_clusters[j].iloc[[0]],'euclidean'))#get the distances of each point from all the current cluster centers\n",
    "        min_idx = np.argmin(c_p_dist) #find out which cluster center a point is closest to\n",
    "        cluster_to_points[min_idx].append(X_normal.iloc[[i]])#add the point to the respective cluster\n",
    "        cluster_to_points_dist.append(c_p_dist[min_idx][0][0])#add the distance of the point from it's cluster center\n",
    "\n",
    "    new_centeroid_idx = np.argmax(cluster_to_points_dist)#find which  point has the max distance from it's cluster center, that's the new cluster center\n",
    "    return new_centeroid_idx\n",
    "    \n",
    "def init_clusters(k):\n",
    "    clusters = create_init_cluster() #1 randomly chosen cluster center\n",
    "    if(k==2):\n",
    "        clusters = find_second_point(clusters) #2 cluster centers ready\n",
    "    elif(k>2):\n",
    "        clusters = find_second_point(clusters)#2 cluster centers ready\n",
    "        for i in range(3,k+1): #loop through all k values\n",
    "            new_centeroid_idx = get_new_centeroid_idx(clusters) #cluster center found for k\n",
    "            clusters.append(X_normal.iloc[[new_centeroid_idx]])#add the cluster center to the list\n",
    "    return clusters\n",
    "\n",
    "\n",
    "\n",
    "def calculate_distance(c1,c2):\n",
    "    return cdist(c1,c2,'euclidean')[0][0]\n",
    "\n",
    "def get_new_centeroids(k,centeroids):\n",
    "    cluster_to_point = {}         #dictionary to store which point belongs to which cluster \n",
    "    centeroid_to_point_dist={}    #dictionary to store the distance of a point from it's cenetroid\n",
    "    for j in range(0,k):          #initialize arrays to store sample indices for each cluster\n",
    "        cluster_to_point[j] = []  #initialize disctionary to hold lists\n",
    "        centeroid_to_point_dist[j] = [] #initialize disctionary to hold lists\n",
    "    for i in range(0,len(X_normal)):     #loop through all samples\n",
    "        d = []                    #array to store distance of a sample point from all centeroids\n",
    "        for j in range(0,k):      #loop through all centeroids\n",
    "            d.append(calculate_distance(X_normal.iloc[[i]],centeroids.iloc[[j]])) #add distance value to the array\n",
    "             \n",
    "        min_idx = np.argmin(d)   #find the index of the minimum distance between a sample point and a centeroid\n",
    "        x_1,x_2 = X_normal['X1'][i],X_normal['X2'][i] #get the X1 and X2 value of the current sample\n",
    "        x = [x_1,x_2] \n",
    "        cluster_to_point[min_idx].append(x) #assign the point to it's respective cluster \n",
    "        centeroid_to_point_dist[min_idx].append(d[min_idx]) #add the distance of each point from it's cluster center\n",
    "    \n",
    "    new_centeroids = [] #initialize list for storing new cluster centers\n",
    "    centeroid_to_point_sum =[] #initialize a list to store sum of distances of points from their cluster centers\n",
    "    for i in range(0,k): #For every k value\n",
    "        new_centeroids.append(pd.DataFrame(cluster_to_point[i],columns=['X1','X2']).mean()) #add the center of each cluster to the list\n",
    "        centeroid_to_point_sum.append(np.array(centeroid_to_point_dist[i]).sum())#add sum of distances of points from their cluster center for each cluster\n",
    "    k_cluster_to_point[k] = cluster_to_point #add which point belongs to which cluster for each k value\n",
    "    return new_centeroids,np.array(centeroid_to_point_sum).sum()      \n",
    "    \n",
    "    \n",
    "\n",
    "def kmeans_implementation(k):     #k = number of clusters\n",
    "    a = init_clusters(k)   #found k initial cluster centers intelligently\n",
    "    init_centeroids = pd.DataFrame(a[0]) #convert cluster centers to dataframe object\n",
    "    accuracies[k] = [] #to hold the accuracy values\n",
    "    for i in range(1,len(a)):#loop through cluster centers\n",
    "        init_centeroids = init_centeroids.append(a[i]) #add o the dataframe object\n",
    "    new_centeroids,centeroid_to_point_sum = get_new_centeroids(k,init_centeroids) #got new cluster centers\n",
    "    accuracies[k].append(centeroid_to_point_sum) #for the new cluster center, add the total of sum of distances of points from their cluster center\n",
    "    \n",
    "    for i in range(0,49):\n",
    "        new_centeroids,centeroid_to_point_sum = get_new_centeroids(k,pd.DataFrame(new_centeroids)) # repeat the step for n number of times\n",
    "        accuracies[k].append(centeroid_to_point_sum) #for each iteration, find the accuracy(clustering objective)\n",
    "    k_centeroids[k] = new_centeroids #for each k, what are the centeroids\n",
    "    return centeroid_to_point_sum\n",
    "    \n",
    "\n",
    "accuracies={} #dictionary to hold accuracies for each k\n",
    "clustering_objective = [] #list to hold the values of accuracies\n",
    "k_cluster_to_point = {} #dictionary to hold info about which point belongs to which cluster for each k value\n",
    "k_centeroids = {}#dictionary ti hold what are the centeroids for each k\n",
    "for i in range(1,6):\n",
    "    centeroid_to_point_sum= kmeans_implementation(i)\n",
    "    clustering_objective.append(centeroid_to_point_sum)\n"
   ]
  },
  {
   "cell_type": "code",
   "execution_count": 12,
   "id": "81bfdfc4",
   "metadata": {},
   "outputs": [
    {
     "data": {
      "text/plain": [
       "X1    0.596738\n",
       "X2   -0.506252\n",
       "dtype: float64"
      ]
     },
     "execution_count": 12,
     "metadata": {},
     "output_type": "execute_result"
    }
   ],
   "source": [
    "k_centeroids[3][2]"
   ]
  },
  {
   "cell_type": "code",
   "execution_count": 13,
   "id": "527a730f",
   "metadata": {},
   "outputs": [
    {
     "data": {
      "text/plain": [
       "<matplotlib.collections.PathCollection at 0x1db008cb970>"
      ]
     },
     "execution_count": 13,
     "metadata": {},
     "output_type": "execute_result"
    },
    {
     "data": {
      "image/png": "[encoded data removed]",
      "text/plain": [
       "<Figure size 432x288 with 1 Axes>"
      ]
     },
     "metadata": {
      "needs_background": "light"
     },
     "output_type": "display_data"
    }
   ],
   "source": [
    "fig,ax = plt.subplots()\n",
    "ax.plot([1,2,3,4,5],clustering_objective)\n",
    "ax.set_xlabel('k value')\n",
    "ax.set_ylabel('Clustering Objective')\n",
    "ax.scatter([1,2,3,4,5],clustering_objective,color='red')"
   ]
  },
  {
   "cell_type": "markdown",
   "id": "3cb12baa",
   "metadata": {},
   "source": [
    "My clustering objective:Sum of distances of points from their cluster centre. "
   ]
  },
  {
   "cell_type": "markdown",
   "id": "721d1daf",
   "metadata": {},
   "source": [
    "<b>Best value of k = 3</b>"
   ]
  },
  {
   "cell_type": "code",
   "execution_count": 14,
   "id": "b0ec7e8c",
   "metadata": {},
   "outputs": [],
   "source": [
    "c=[]\n",
    "def form_clusters(k):\n",
    "    k_cluster_to_point[k]\n",
    "    for i in range(0,k):\n",
    "        c.append(pd.DataFrame(k_cluster_to_point[k][i],columns=['X1','X2']))\n",
    "form_clusters(3)"
   ]
  },
  {
   "cell_type": "code",
   "execution_count": 15,
   "id": "e9e73d4e",
   "metadata": {},
   "outputs": [
    {
     "data": {
      "text/plain": [
       "Text(0.5, 1.0, 'accuracy for 50 iterations of k=3')"
      ]
     },
     "execution_count": 15,
     "metadata": {},
     "output_type": "execute_result"
    },
    {
     "data": {
      "image/png": "[encoded data removed]",
      "text/plain": [
       "<Figure size 432x288 with 1 Axes>"
      ]
     },
     "metadata": {
      "needs_background": "light"
     },
     "output_type": "display_data"
    }
   ],
   "source": [
    "fig,ax = plt.subplots()\n",
    "ax.plot(np.arange(1,51),accuracies[3])\n",
    "ax.set_xlabel('iteration')\n",
    "ax.set_ylabel('clustering objective')\n",
    "ax.set_title('accuracy for 50 iterations of k=3')"
   ]
  },
  {
   "cell_type": "markdown",
   "id": "3644c241",
   "metadata": {},
   "source": [
    "Note: This graph depends on the initial cluster chosen. I have got different looking graphs on different runs. In the one above, I assume it reached the optimal clustering objective early."
   ]
  },
  {
   "cell_type": "code",
   "execution_count": 16,
   "id": "2eed67f0",
   "metadata": {},
   "outputs": [
    {
     "data": {
      "text/plain": [
       "Text(0, 0.5, 'X2')"
      ]
     },
     "execution_count": 16,
     "metadata": {},
     "output_type": "execute_result"
    },
    {
     "data": {
      "image/png": "[encoded data removed]",
      "text/plain": [
       "<Figure size 432x288 with 1 Axes>"
      ]
     },
     "metadata": {
      "needs_background": "light"
     },
     "output_type": "display_data"
    }
   ],
   "source": [
    "fig,ax = plt.subplots()\n",
    "plt.scatter(c[0]['X1'],c[0]['X2'],color='red')\n",
    "plt.scatter(c[1]['X1'],c[1]['X2'],color='blue')\n",
    "plt.scatter(c[2]['X1'],c[2]['X2'],color='green')\n",
    "#plt.scatter(c[3]['X1'],c[3]['X2'],color='orange')\n",
    "#plt.scatter(c[4]['X1'],c[4]['X2'],color = 'black')\n",
    "centeroid_x=[k_centeroids[3][0]['X1'],k_centeroids[3][1]['X1'],k_centeroids[3][2]['X1']]\n",
    "centeroid_y=[k_centeroids[3][0]['X2'],k_centeroids[3][1]['X2'],k_centeroids[3][2]['X2']]\n",
    "plt.scatter(centeroid_x,centeroid_y,color='yellow')\n",
    "ax.set_title('KMeans++ trained Model for k=3')\n",
    "ax.set_xlabel('X1')\n",
    "ax.set_ylabel('X2')"
   ]
  }
 ],
 "metadata": {
  "kernelspec": {
   "display_name": "Python 3 (ipykernel)",
   "language": "python",
   "name": "python3"
  },
  "language_info": {
   "codemirror_mode": {
    "name": "ipython",
    "version": 3
   },
   "file_extension": ".py",
   "mimetype": "text/x-python",
   "name": "python",
   "nbconvert_exporter": "python",
   "pygments_lexer": "ipython3",
   "version": "3.9.7"
  }
 },
 "nbformat": 4,
 "nbformat_minor": 5
}
