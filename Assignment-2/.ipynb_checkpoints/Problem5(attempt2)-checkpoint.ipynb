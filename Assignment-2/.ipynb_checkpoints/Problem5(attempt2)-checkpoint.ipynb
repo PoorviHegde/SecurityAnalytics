{
 "cells": [
  {
   "cell_type": "code",
   "execution_count": 37,
   "id": "d7104658",
   "metadata": {},
   "outputs": [],
   "source": [
    "import numpy as np\n",
    "import matplotlib.pyplot as plt\n",
    "\n",
    "class MultiClassLogisticRegression:\n",
    "    \n",
    "    def __init__(self, n_iter = 10000, thres=1e-3):\n",
    "        self.n_iter = n_iter\n",
    "        self.thres = thres\n",
    "    \n",
    "    def fit(self, X, y, batch_size=64, lr=0.001, rand_seed=4, verbose=False): \n",
    "        np.random.seed(rand_seed) \n",
    "        self.classes = np.unique(y)\n",
    "        self.class_labels = {c:i for i,c in enumerate(self.classes)}\n",
    "        X = self.add_bias(X)\n",
    "        y = self.one_hot(y)\n",
    "        self.loss = []\n",
    "        self.weights = np.zeros(shape=(len(self.classes),X.shape[1]))\n",
    "        self.fit_data(X, y, batch_size, lr, verbose)\n",
    "        return self\n",
    " \n",
    "    def fit_data(self, X, y, batch_size, lr, verbose):\n",
    "        i = 0\n",
    "        while (not self.n_iter or i < self.n_iter):\n",
    "            self.loss.append(self.cross_entropy(y, self.predict_(X)))\n",
    "            idx = np.random.choice(X.shape[0], batch_size)\n",
    "            X_batch, y_batch = X[idx], y[idx]\n",
    "            error = y_batch - self.predict_(X_batch)\n",
    "            update = (lr * np.dot(error.T, X_batch))\n",
    "            self.weights += update\n",
    "            if np.abs(update).max() < self.thres: break\n",
    "            if i % 1000 == 0 and verbose: \n",
    "                print(' Training Accuray at {} iterations is {}'.format(i, self.evaluate_(X, y)))\n",
    "            i +=1\n",
    "        \n",
    "    def predict(self, X):\n",
    "        return self.predict_(self.add_bias(X))\n",
    "    \n",
    "    def predict_(self, X):\n",
    "        pre_vals = np.dot(X, self.weights.T).reshape(-1,len(self.classes))\n",
    "        return self.softmax(pre_vals)\n",
    "    \n",
    "    def softmax(self, z):\n",
    "        return np.exp(z) / np.sum(np.exp(z), axis=1).reshape(-1,1)\n",
    "\n",
    "    def predict_classes(self, X):\n",
    "        self.probs_ = self.predict(X)\n",
    "        return np.vectorize(lambda c: self.classes[c])(np.argmax(self.probs_, axis=1))\n",
    "  \n",
    "    def add_bias(self,X):\n",
    "        return np.insert(X, 0, 1, axis=1)\n",
    "  \n",
    "    def get_randon_weights(self, row, col):\n",
    "        return np.zeros(shape=(row,col))\n",
    "\n",
    "    def one_hot(self, y):\n",
    "        return np.eye(len(self.classes))[np.vectorize(lambda c: self.class_labels[c])(y).reshape(-1)]\n",
    "    \n",
    "    def score(self, X, y):\n",
    "        return np.mean(self.predict_classes(X) == y)\n",
    "    \n",
    "    def evaluate_(self, X, y):\n",
    "        return np.mean(np.argmax(self.predict_(X), axis=1) == np.argmax(y, axis=1))\n",
    "    \n",
    "    def cross_entropy(self, y, probs):\n",
    "        return -1 * np.mean(y * np.log(probs))"
   ]
  },
  {
   "cell_type": "code",
   "execution_count": 38,
   "id": "366e6577",
   "metadata": {},
   "outputs": [
    {
     "name": "stdout",
     "output_type": "stream",
     "text": [
      "0.10002046481471612\n"
     ]
    },
    {
     "data": {
      "image/png": "[encoded data removed]",
      "text/plain": [
       "<Figure size 576x432 with 1 Axes>"
      ]
     },
     "metadata": {
      "needs_background": "light"
     },
     "output_type": "display_data"
    }
   ],
   "source": [
    "#X,y = datasets.load_iris(return_X_y=True)\n",
    "training = pd.read_csv('optdigits.tra',names=np.arange(64))\n",
    "X = np.array(training.drop(63,axis=1))\n",
    "y = np.array(training[[63]])\n",
    "lr = MultiClassLogisticRegression(thres=1e-5)\n",
    "lr.fit(X,y,lr=0.0001)\n",
    "print(lr.score(X, y))\n",
    "\n",
    "fig = plt.figure(figsize=(8,6))\n",
    "plt.plot(np.arange(len(lr.loss)), lr.loss)\n",
    "plt.title(\"Development of loss during training\")\n",
    "plt.xlabel(\"Number of iterations\")\n",
    "plt.ylabel(\"Loss\")\n",
    "plt.show()"
   ]
  },
  {
   "cell_type": "code",
   "execution_count": 26,
   "id": "d51cfed5",
   "metadata": {},
   "outputs": [
    {
     "data": {
      "text/plain": [
       "(3823, 63)"
      ]
     },
     "execution_count": 26,
     "metadata": {},
     "output_type": "execute_result"
    }
   ],
   "source": []
  },
  {
   "cell_type": "code",
   "execution_count": null,
   "id": "633d2425",
   "metadata": {},
   "outputs": [],
   "source": []
  }
 ],
 "metadata": {
  "kernelspec": {
   "display_name": "Python 3 (ipykernel)",
   "language": "python",
   "name": "python3"
  },
  "language_info": {
   "codemirror_mode": {
    "name": "ipython",
    "version": 3
   },
   "file_extension": ".py",
   "mimetype": "text/x-python",
   "name": "python",
   "nbconvert_exporter": "python",
   "pygments_lexer": "ipython3",
   "version": "3.9.7"
  }
 },
 "nbformat": 4,
 "nbformat_minor": 5
}
